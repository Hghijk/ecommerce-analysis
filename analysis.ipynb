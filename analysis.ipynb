{
 "cells": [
  {
   "cell_type": "markdown",
   "id": "f1f1f2d2",
   "metadata": {},
   "source": [
    "# 🛍️ E-Commerce Sales Analysis & Customer Segmentation\n",
    "\n",
    "This notebook performs:\n",
    "- Exploratory sales analysis\n",
    "- Product performance insights\n",
    "- RFM-based customer segmentation\n",
    "\n",
    "Dataset: Online Retail (500,000+ transactions from a UK-based e-commerce company)\n"
   ]
  },
  {
   "cell_type": "code",
   "execution_count": null,
   "id": "b3fd9ea1",
   "metadata": {},
   "outputs": [],
   "source": [
    "import pandas as pd\n",
    "import numpy as np\n",
    "import matplotlib.pyplot as plt\n",
    "import seaborn as sns\n",
    "import datetime as dt\n",
    "\n",
    "# Plot style\n",
    "plt.style.use(\"ggplot\")"
   ]
  },
  {
   "cell_type": "code",
   "execution_count": null,
   "id": "41fef5a3",
   "metadata": {},
   "outputs": [],
   "source": [
    "# Load the dataset\n",
    "df = pd.read_csv(\"Online Retail.csv\", encoding=\"ISO-8859-1\")\n",
    "df.head()"
   ]
  },
  {
   "cell_type": "code",
   "execution_count": null,
   "id": "5882df25",
   "metadata": {},
   "outputs": [],
   "source": [
    "# Data cleaning\n",
    "df = df[df['CustomerID'].notnull()]\n",
    "df = df[~df['InvoiceNo'].astype(str).str.startswith('C')]\n",
    "df = df[(df['Quantity'] > 0) & (df['UnitPrice'] > 0)]\n",
    "df['InvoiceDate'] = pd.to_datetime(df['InvoiceDate'])\n",
    "df['Revenue'] = df['Quantity'] * df['UnitPrice']"
   ]
  },
  {
   "cell_type": "code",
   "execution_count": null,
   "id": "84a3172c",
   "metadata": {},
   "outputs": [],
   "source": [
    "# Total revenue\n",
    "print(\"Total Revenue:\", df['Revenue'].sum())"
   ]
  },
  {
   "cell_type": "code",
   "execution_count": null,
   "id": "6a834056",
   "metadata": {},
   "outputs": [],
   "source": [
    "# Top 10 products\n",
    "top_products = df.groupby('Description')['Revenue'].sum().sort_values(ascending=False).head(10)\n",
    "top_products.plot(kind='bar', figsize=(10,5), title='Top 10 Products by Revenue')\n",
    "plt.ylabel('Revenue')\n",
    "plt.xlabel('Product')\n",
    "plt.xticks(rotation=45)\n",
    "plt.tight_layout()\n",
    "plt.show()"
   ]
  },
  {
   "cell_type": "code",
   "execution_count": null,
   "id": "02721517",
   "metadata": {},
   "outputs": [],
   "source": [
    "# Monthly revenue trend\n",
    "df['Month'] = df['InvoiceDate'].dt.to_period('M')\n",
    "monthly_rev = df.groupby('Month')['Revenue'].sum()\n",
    "monthly_rev.plot(figsize=(12,6), marker='o', title='Monthly Revenue')\n",
    "plt.ylabel('Revenue')\n",
    "plt.show()"
   ]
  },
  {
   "cell_type": "code",
   "execution_count": null,
   "id": "822e96a9",
   "metadata": {},
   "outputs": [],
   "source": [
    "# Revenue by country\n",
    "country_revenue = df.groupby('Country')['Revenue'].sum().sort_values(ascending=False)\n",
    "country_revenue.head(10).plot(kind='bar', figsize=(10,5), title='Top Countries by Revenue')\n",
    "plt.ylabel('Revenue')\n",
    "plt.xticks(rotation=45)\n",
    "plt.tight_layout()\n",
    "plt.show()"
   ]
  },
  {
   "cell_type": "code",
   "execution_count": null,
   "id": "3164bebc",
   "metadata": {},
   "outputs": [],
   "source": [
    "# RFM analysis\n",
    "snapshot_date = df['InvoiceDate'].max() + dt.timedelta(days=1)\n",
    "\n",
    "rfm = df.groupby('CustomerID').agg({\n",
    "    'InvoiceDate': lambda x: (snapshot_date - x.max()).days,\n",
    "    'InvoiceNo': 'nunique',\n",
    "    'Revenue': 'sum'\n",
    "}).reset_index()\n",
    "\n",
    "rfm.columns = ['CustomerID', 'Recency', 'Frequency', 'Monetary']\n",
    "\n",
    "# RFM quartiles\n",
    "rfm['R_Quartile'] = pd.qcut(rfm['Recency'], 4, labels=[4, 3, 2, 1])\n",
    "rfm['F_Quartile'] = pd.qcut(rfm['Frequency'], 4, labels=[1, 2, 3, 4])\n",
    "rfm['M_Quartile'] = pd.qcut(rfm['Monetary'], 4, labels=[1, 2, 3, 4])\n",
    "rfm['RFM_Score'] = rfm['R_Quartile'].astype(str) + rfm['F_Quartile'].astype(str) + rfm['M_Quartile'].astype(str)\n",
    "\n",
    "rfm.head()"
   ]
  },
  {
   "cell_type": "code",
   "execution_count": null,
   "id": "cc635b76",
   "metadata": {},
   "outputs": [],
   "source": [
    "# Champions and at-risk segments\n",
    "champions = rfm[rfm['RFM_Score'] == '444']\n",
    "at_risk = rfm[(rfm['R_Quartile'] == 1) & (rfm['F_Quartile'].isin(['1', '2']))]\n",
    "print(\"Champions:\", len(champions))\n",
    "print(\"At Risk Customers:\", len(at_risk))"
   ]
  },
  {
   "cell_type": "code",
   "execution_count": null,
   "id": "b2cfc550",
   "metadata": {},
   "outputs": [],
   "source": [
    "# RFM visualizations\n",
    "plt.figure(figsize=(12,4))\n",
    "\n",
    "plt.subplot(1, 3, 1)\n",
    "sns.histplot(rfm['Recency'], bins=20, kde=True)\n",
    "plt.title(\"Recency Distribution\")\n",
    "\n",
    "plt.subplot(1, 3, 2)\n",
    "sns.histplot(rfm['Frequency'], bins=20, kde=True)\n",
    "plt.title(\"Frequency Distribution\")\n",
    "\n",
    "plt.subplot(1, 3, 3)\n",
    "sns.histplot(rfm['Monetary'], bins=20, kde=True)\n",
    "plt.title(\"Monetary Distribution\")\n",
    "\n",
    "plt.tight_layout()\n",
    "plt.show()"
   ]
  },
  {
   "cell_type": "markdown",
   "id": "3ed41d36",
   "metadata": {},
   "source": [
    "## 📌 Conclusion\n",
    "\n",
    "- UK customers generated ~90% of total revenue.\n",
    "- A small % of products drove a majority of sales.\n",
    "- Customer segmentation revealed:\n",
    "  - 🏆 \"Champions\" (444 RFM score): high-frequency, high-value customers\n",
    "  - ⚠️ \"At-Risk\" customers with low recent activity and value\n",
    "- RFM allows for targeted retention and promotional strategies.\n"
   ]
  }
 ],
 "metadata": {
  "language_info": {
   "name": "python"
  }
 },
 "nbformat": 4,
 "nbformat_minor": 5
}
